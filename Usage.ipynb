{
 "cells": [
  {
   "cell_type": "code",
   "execution_count": 1,
   "metadata": {},
   "outputs": [],
   "source": [
    "from aomame import MicrosoftTranslator\n",
    "from aomame import SystranTranslator"
   ]
  },
  {
   "cell_type": "code",
   "execution_count": 2,
   "metadata": {},
   "outputs": [],
   "source": [
    "ms = MicrosoftTranslator('api.cognitive.microsofttranslator.com', '**********')"
   ]
  },
  {
   "cell_type": "code",
   "execution_count": 3,
   "metadata": {},
   "outputs": [],
   "source": [
    "texts = \"\"\"所有的技术传播都服务于某个特定目的——将想法和概念传达给读者，或指导读者完成特定任务。\n",
    "技术传播专业人员使用多种技巧来理解读者，并在可能的时候让目标读者对内容进行测试。\n",
    "例如，如果银行工作人员不能正确处理存款，技术传播者首先会检查现有的说明材料（或者根本没有说明材料）、与银行工作人员面谈以确认是否有概念性错误、与主题专家面谈以学习正确的操作流程、编写新的材料以指导工作人员按照正确的流程操作、让银行工作人员对新材料进行测试。\n",
    "同样地，某个销售经理想知道两个地点中哪个更适合作为新店的选址，他可能会让营销专员去了解场地并写一份建议报告。\n",
    "营销专员将报告转给技术传播从业者（技术编辑或技术写作人员）。\n",
    "技术传播从业者负责内容编辑、格式设置，有些时候还需为文档增加细节内容，以使营销专员的专业评估适合于销售经理使用。\n",
    "这个过程不属于知识传递的范畴，而是不同专业领域和不同使用情境间的知识融合。这是对技术传播的基本定义。\n",
    "读者会影响传播的多个方面，从选词、图形使用到风格和内容组织等。大多数情况下，为了满足某个特定用户的需求，技术传播从业者必须考虑哪些特征会使文档有用（能够支持某个任务）并且可用（以服务于该任务的方式使用）。\n",
    "非技术类读者可能会对充满行业术语的文档产生误解，甚至根本不会看这种文档；而技术类读者则渴望看到对其工作非常重要的详细说明。\n",
    "忙碌的读者通常没有时间读完整个文档，所以内容必须易于搜索，例如通过使用标题、留白，以及引导注意力的其他提示。根据读者的特定需求，可能还会有其他要求。\n",
    "政府领域的技术传播有其特殊性。取决于具体的政府部门（以及国家），政府单位必须符合明确的规范。信息不断做更改，导致技术传播内容（技术手册、电子版本技术手册、技术简报等）必须做相应更新。\n",
    "台风盖伊[1]是1992年太平洋台风季最强烈且持续时间最长的风暴，于11月14日由国际日期变更线附近的季风槽形成，该季风槽还催生出另外两个天气系统。\n",
    "途经马绍尔群岛时，盖伊已经成为一个还在继续增强的台风，并在完全穿过该群岛后在公海上空达到最高强度。联合台风警报中心估计其最高风速达到每小时295公里，最低气压低至872毫巴（百帕，25.8英寸汞柱）。\n",
    "不过西太平洋的官方预警中心日本气象厅估计系统风速为每小时205公里，气压900毫巴（百帕，27英寸汞柱）。达到最高强度后，盖伊由于与另一个台风的相互影响而迅速减弱，到11月23日袭击关岛时风速已降至每小时160公里。\n",
    "之后风暴曾短暂地再次强化，之后再次减弱，于11月30日在日本以南洋面转变成温带气旋。\n",
    "台风最先袭击了马绍尔群岛，造成5000人无家可归，大量农作物受损，该国首都马朱罗在风暴期间出现停水断电。\n",
    "群岛上没有当地人丧生，但有一位水手遇难。盖伊袭击关岛时成为该岛这年遭遇的第六个台风。\n",
    "之前岛上大部分品质较差的建筑物都在台风奥马尔来袭期间被毁，所以这次的台风没有对岛上造成严重损失。由于强度降幅很大，这场台风的内核混乱，产生的降雨量很小，但强风吹起的海水烧焦了关岛上的许多植物，导致大面积脱叶现象。在纬度更高的地区，台风摧毁了塞班岛上一套房屋，日本冲绳出现暴雨，导致洪涝和停电。\"\"\".split('\\n')"
   ]
  },
  {
   "cell_type": "code",
   "execution_count": 5,
   "metadata": {},
   "outputs": [],
   "source": [
    "translations =  ms.translate_sents(texts, 'zh', 'en')"
   ]
  },
  {
   "cell_type": "code",
   "execution_count": 6,
   "metadata": {},
   "outputs": [
    {
     "data": {
      "text/plain": [
       "('All technical communication serves a specific purpose - to communicate ideas and concepts to the reader, or to guide the reader through a specific task.',\n",
       " 'Technical communication professionals use a variety of techniques to understand the reader and, where possible, to have the target reader test the content.',\n",
       " 'For example, if the bank staff is not able to handle the deposit properly, the technology communicator will first examine the existing explanatory material (or have no explanatory materialatly), interview the bank staff to confirm that there is a conceptual error, interview the subject matter expert to learn the correct operating process, prepare new materialto guide the staff to follow the correct process, and have the bank staff test the new material.',\n",
       " 'Similarly, a sales manager wants to know which of the two locations is better suited to the site for the new store, and he might ask the marketing professional to learn about the site and write a recommendation report.',\n",
       " 'The Marketing Specialist forwards the report to a technology communications practitioner (technical editor or technical writer).')"
      ]
     },
     "execution_count": 6,
     "metadata": {},
     "output_type": "execute_result"
    }
   ],
   "source": [
    "translations[:5]"
   ]
  },
  {
   "cell_type": "code",
   "execution_count": 7,
   "metadata": {},
   "outputs": [],
   "source": [
    "st = SystranTranslator(\"systran-systran-platform-for-language-processing-v1.p.rapidapi.com\", \n",
    "                       \"************\")"
   ]
  },
  {
   "cell_type": "code",
   "execution_count": 8,
   "metadata": {},
   "outputs": [],
   "source": [
    "texts = ['All technical communication serves a specific purpose - to communicate ideas and concepts to the reader, or to guide the reader through a specific task.',\n",
    " 'Technical communication professionals use a variety of techniques to understand the reader and, where possible, to have the target reader test the content.',\n",
    " 'For example, if the bank staff is not able to handle the deposit properly, the technology communicator will first examine the existing explanatory material (or have no explanatory materialatly), interview the bank staff to confirm that there is a conceptual error, interview the subject matter expert to learn the correct operating process, prepare new materialto guide the staff to follow the correct process, and have the bank staff test the new material.']"
   ]
  },
  {
   "cell_type": "code",
   "execution_count": 10,
   "metadata": {},
   "outputs": [
    {
     "name": "stderr",
     "output_type": "stream",
     "text": [
      "100%|██████████| 3/3 [00:04<00:00,  1.45s/it]\n"
     ]
    },
    {
     "data": {
      "text/plain": [
       "['Toute la communication technique atteint un objectif spécifique - de communiquer des idées et des concepts au lecteur, ou de guider le lecteur par une tâche spécifique.',\n",
       " \"Les professionnels techniques de communication emploient un grand choix de techniques pour comprendre le lecteur et, dans la mesure du possible, pour avoir l'essai de lecteur de cible le contenu.\",\n",
       " \"Par exemple, si le personnel de banque ne peut pas manipuler le dépôt correctement, le communicateur de technologie examinera d'abord le matériel explicatif existant (ou n'ayez aucun explicatif materialatly), entrevue le personnel de banque pour confirmer qu'il y a une erreur conceptuelle, entrevue l'expert en matière de thèmes pour apprendre le processus de fonctionnement correct, pour préparer le nouveau materialto guider le personnel pour suivre le processus correct, et a l'essai de personnel de banque le nouveau matériel.\"]"
      ]
     },
     "execution_count": 10,
     "metadata": {},
     "output_type": "execute_result"
    }
   ],
   "source": [
    "st.translate_sents(texts, 'en', 'fr')"
   ]
  },
  {
   "cell_type": "code",
   "execution_count": null,
   "metadata": {},
   "outputs": [],
   "source": []
  }
 ],
 "metadata": {
  "kernelspec": {
   "display_name": "py38",
   "language": "python",
   "name": "py38"
  },
  "language_info": {
   "codemirror_mode": {
    "name": "ipython",
    "version": 3
   },
   "file_extension": ".py",
   "mimetype": "text/x-python",
   "name": "python",
   "nbconvert_exporter": "python",
   "pygments_lexer": "ipython3",
   "version": "3.8.0"
  }
 },
 "nbformat": 4,
 "nbformat_minor": 4
}
